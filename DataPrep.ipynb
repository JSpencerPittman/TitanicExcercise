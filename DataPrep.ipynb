{
 "cells": [
  {
   "cell_type": "code",
   "execution_count": 1,
   "id": "9f4f64ca",
   "metadata": {},
   "outputs": [],
   "source": [
    "import os\n",
    "import tarfile\n",
    "import urllib\n",
    "import pandas as pd\n",
    "\n",
    "TITANIC_DIR = \"/Users/spencer/ml/datasets/titanic\"\n",
    "TRAIN_PATH = os.path.join(TITANIC_DIR, 'train.csv')\n",
    "\n",
    "train_set = pd.read_csv(TRAIN_PATH)"
   ]
  },
  {
   "cell_type": "code",
   "execution_count": 98,
   "id": "2bca1c0d",
   "metadata": {},
   "outputs": [
    {
     "name": "stdout",
     "output_type": "stream",
     "text": [
      "<class 'pandas.core.frame.DataFrame'>\n",
      "RangeIndex: 891 entries, 0 to 890\n",
      "Data columns (total 12 columns):\n",
      " #   Column       Non-Null Count  Dtype  \n",
      "---  ------       --------------  -----  \n",
      " 0   PassengerId  891 non-null    int64  \n",
      " 1   Survived     891 non-null    int64  \n",
      " 2   Pclass       891 non-null    int64  \n",
      " 3   Name         891 non-null    object \n",
      " 4   Sex          891 non-null    object \n",
      " 5   Age          714 non-null    float64\n",
      " 6   SibSp        891 non-null    int64  \n",
      " 7   Parch        891 non-null    int64  \n",
      " 8   Ticket       891 non-null    object \n",
      " 9   Fare         891 non-null    float64\n",
      " 10  Cabin        204 non-null    object \n",
      " 11  Embarked     889 non-null    object \n",
      "dtypes: float64(2), int64(5), object(5)\n",
      "memory usage: 83.7+ KB\n"
     ]
    }
   ],
   "source": [
    "train_set.info()"
   ]
  },
  {
   "cell_type": "markdown",
   "id": "90a11159",
   "metadata": {},
   "source": [
    "## Reform Data\n",
    "1) Remove Embarked nulls<br>\n",
    "2) Convert Sex/Survived/Embarked/Pclass to category type<br>\n",
    "3) Remove Cabin and tickets<br>\n",
    "4) Null Age set to median<br>\n",
    "5) One Hot Encoding on Category Attributes<br>\n",
    "6) Split data to train and testing<br>"
   ]
  },
  {
   "cell_type": "markdown",
   "id": "33ea1395",
   "metadata": {},
   "source": [
    "### Categorize Attributes & Remove Embarked == Null\n",
    "Converts the attribute of one type to boolean\n",
    "Only accepts object(string) and int64"
   ]
  },
  {
   "cell_type": "code",
   "execution_count": 89,
   "id": "fd443917",
   "metadata": {},
   "outputs": [],
   "source": [
    "from sklearn.preprocessing import FunctionTransformer\n",
    "\n",
    "def to_category(X):\n",
    "    return X.astype('category')\n",
    "categorizeAttribute = FunctionTransformer(to_category)\n",
    "\n",
    "def drop_missing_embarks(X):\n",
    "    return X.dropna(subset=[\"Embarked\"])\n",
    "purgeNullEmbarks = FunctionTransformer(drop_missing_embarks)"
   ]
  },
  {
   "cell_type": "code",
   "execution_count": 90,
   "id": "51d2fd0a",
   "metadata": {},
   "outputs": [],
   "source": [
    "mess_set = train_set.copy()"
   ]
  },
  {
   "cell_type": "code",
   "execution_count": 91,
   "id": "e344f057",
   "metadata": {},
   "outputs": [],
   "source": [
    "mess_set = purgeNullEmbarks.fit_transform(mess_set)"
   ]
  },
  {
   "cell_type": "code",
   "execution_count": 97,
   "id": "a70672d2",
   "metadata": {},
   "outputs": [
    {
     "data": {
      "text/plain": [
       "S    644\n",
       "C    168\n",
       "Q     77\n",
       "Name: Embarked, dtype: int64"
      ]
     },
     "execution_count": 97,
     "metadata": {},
     "output_type": "execute_result"
    }
   ],
   "source": [
    "mess_set['Embarked'].value_counts()"
   ]
  },
  {
   "cell_type": "markdown",
   "id": "9623f152",
   "metadata": {},
   "source": [
    "### Transform Columns"
   ]
  },
  {
   "cell_type": "code",
   "execution_count": null,
   "id": "618accba",
   "metadata": {},
   "outputs": [],
   "source": [
    "all_attribs = list(train_set)\n",
    "cat_attribs = ['Survived','Pclass','Sex','Embarked']\n",
    "nan_with_median_attribs = ['Age']"
   ]
  },
  {
   "cell_type": "code",
   "execution_count": 88,
   "id": "d01d1083",
   "metadata": {},
   "outputs": [
    {
     "data": {
      "text/plain": [
       "['PassengerId',\n",
       " 'Survived',\n",
       " 'Pclass',\n",
       " 'Name',\n",
       " 'Sex',\n",
       " 'Age',\n",
       " 'SibSp',\n",
       " 'Parch',\n",
       " 'Ticket',\n",
       " 'Fare',\n",
       " 'Cabin',\n",
       " 'Embarked']"
      ]
     },
     "execution_count": 88,
     "metadata": {},
     "output_type": "execute_result"
    }
   ],
   "source": [
    "from sklearn.pipeline import Pipeline"
   ]
  },
  {
   "cell_type": "code",
   "execution_count": null,
   "id": "213fe7fa",
   "metadata": {},
   "outputs": [],
   "source": []
  }
 ],
 "metadata": {
  "kernelspec": {
   "display_name": "Python 3 (ipykernel)",
   "language": "python",
   "name": "python3"
  },
  "language_info": {
   "codemirror_mode": {
    "name": "ipython",
    "version": 3
   },
   "file_extension": ".py",
   "mimetype": "text/x-python",
   "name": "python",
   "nbconvert_exporter": "python",
   "pygments_lexer": "ipython3",
   "version": "3.8.3rc1"
  }
 },
 "nbformat": 4,
 "nbformat_minor": 5
}
